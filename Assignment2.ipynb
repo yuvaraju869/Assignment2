{
 "cells": [
  {
   "cell_type": "markdown",
   "id": "f6936116",
   "metadata": {},
   "source": [
    "# Write a Python program to get a list, sorted in increasing order by the last element in each tuple from a given list of non-empty tuples"
   ]
  },
  {
   "cell_type": "code",
   "execution_count": 1,
   "id": "60b95ade",
   "metadata": {},
   "outputs": [
    {
     "name": "stdout",
     "output_type": "stream",
     "text": [
      "[(2, 1), (1, 2), (2, 3), (4, 4), (2, 5)]\n"
     ]
    }
   ],
   "source": [
    "def sort_by_last_element(input_list):\n",
    "  \"\"\"\n",
    "  Sorts a list of non-empty tuples by the last element in each tuple.\n",
    "\n",
    "  Args:\n",
    "    input_list: A list of non-empty tuples.\n",
    "\n",
    "  Returns:\n",
    "    A sorted list of tuples.\n",
    "  \"\"\"\n",
    "\n",
    "  sorted_list = sorted(input_list, key=lambda x: x[-1])\n",
    "  return sorted_list\n",
    "\n",
    "\n",
    "if __name__ == \"__main__\":\n",
    "  input_list = [(2, 5), (1, 2), (4, 4), (2, 3), (2, 1)]\n",
    "  sorted_list = sort_by_last_element(input_list)\n",
    "  print(sorted_list)"
   ]
  },
  {
   "cell_type": "code",
   "execution_count": null,
   "id": "ecb15ac5",
   "metadata": {},
   "outputs": [],
   "source": []
  }
 ],
 "metadata": {
  "kernelspec": {
   "display_name": "Python 3 (ipykernel)",
   "language": "python",
   "name": "python3"
  },
  "language_info": {
   "codemirror_mode": {
    "name": "ipython",
    "version": 3
   },
   "file_extension": ".py",
   "mimetype": "text/x-python",
   "name": "python",
   "nbconvert_exporter": "python",
   "pygments_lexer": "ipython3",
   "version": "3.11.3"
  }
 },
 "nbformat": 4,
 "nbformat_minor": 5
}
