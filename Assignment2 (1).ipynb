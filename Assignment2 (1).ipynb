{
 "cells": [
  {
   "cell_type": "markdown",
   "id": "fac0ff85",
   "metadata": {},
   "source": [
    "# Write a Python program to print a dictionary whose keys should be the alphabet from a-z and the value should be corresponding ASCII values"
   ]
  },
  {
   "cell_type": "code",
   "execution_count": 2,
   "id": "a99200b8",
   "metadata": {},
   "outputs": [
    {
     "name": "stdout",
     "output_type": "stream",
     "text": [
      "{'a': 97, 'b': 98, 'c': 99, 'd': 100, 'e': 101, 'f': 102, 'g': 103, 'h': 104, 'i': 105, 'j': 106, 'k': 107, 'l': 108, 'm': 109, 'n': 110, 'o': 111, 'p': 112, 'q': 113, 'r': 114, 's': 115, 't': 116, 'u': 117, 'v': 118, 'w': 119, 'x': 120, 'y': 121, 'z': 122}\n"
     ]
    }
   ],
   "source": [
    "def create_ascii_dictionary():\n",
    "  \"\"\"\n",
    "  Creates a dictionary whose keys are the alphabet from a-z and the value is\n",
    "  the corresponding ASCII value.\n",
    "\n",
    "  Returns:\n",
    "    A dictionary.\n",
    "  \"\"\"\n",
    "\n",
    "  ascii_dictionary = {}\n",
    "  for i in range(ord('a'), ord('z') + 1):\n",
    "    ascii_value = chr(i)\n",
    "    ascii_dictionary[ascii_value] = i\n",
    "  return ascii_dictionary\n",
    "\n",
    "\n",
    "if __name__ == \"__main__\":\n",
    "  ascii_dictionary = create_ascii_dictionary()\n",
    "  print(ascii_dictionary)"
   ]
  },
  {
   "cell_type": "code",
   "execution_count": null,
   "id": "7d6bc2d1",
   "metadata": {},
   "outputs": [],
   "source": []
  }
 ],
 "metadata": {
  "kernelspec": {
   "display_name": "Python 3 (ipykernel)",
   "language": "python",
   "name": "python3"
  },
  "language_info": {
   "codemirror_mode": {
    "name": "ipython",
    "version": 3
   },
   "file_extension": ".py",
   "mimetype": "text/x-python",
   "name": "python",
   "nbconvert_exporter": "python",
   "pygments_lexer": "ipython3",
   "version": "3.11.3"
  }
 },
 "nbformat": 4,
 "nbformat_minor": 5
}
